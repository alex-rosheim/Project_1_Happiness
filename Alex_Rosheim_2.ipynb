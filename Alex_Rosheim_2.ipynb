{
 "cells": [
  {
   "cell_type": "code",
   "execution_count": 287,
   "metadata": {},
   "outputs": [],
   "source": [
    "import pandas as pd\n",
    "import requests\n",
    "from bs4 import BeautifulSoup\n",
    "import string\n",
    "%matplotlib inline\n",
    "import matplotlib.pyplot as plt"
   ]
  },
  {
   "cell_type": "code",
   "execution_count": 288,
   "metadata": {},
   "outputs": [],
   "source": [
    "top_25 = pd.read_csv('top_25_key.csv')\n",
    "full_metro = pd.read_csv('Full Metro List.csv')"
   ]
  },
  {
   "cell_type": "code",
   "execution_count": 196,
   "metadata": {},
   "outputs": [],
   "source": [
    "city = []\n",
    "state = []\n",
    "i = 0\n",
    "for city_ in top_25.metro:\n",
    "    city.append(top_25.metro.str.split(\",\")[i][0])\n",
    "    state.append(top_25.metro.str.split(\",\")[i][1])\n",
    "#     print(city_)\n",
    "    i += 1\n",
    "        "
   ]
  },
  {
   "cell_type": "code",
   "execution_count": 427,
   "metadata": {},
   "outputs": [
    {
     "data": {
      "text/plain": [
       "[' Colorado',\n",
       " ' California',\n",
       " ' California',\n",
       " ' Virginia',\n",
       " ' Colorado',\n",
       " ' California',\n",
       " ' California',\n",
       " ' Utah',\n",
       " ' Connecticut',\n",
       " ' Connecticut',\n",
       " ' Connecticut',\n",
       " ' Massachusetts',\n",
       " ' Alaska',\n",
       " ' Florida',\n",
       " ' Florida',\n",
       " ' Florida',\n",
       " ' California',\n",
       " ' California',\n",
       " ' California',\n",
       " ' Florida',\n",
       " ' Florida',\n",
       " ' Florida',\n",
       " ' Hawaii',\n",
       " ' Michigan',\n",
       " ' California',\n",
       " ' California',\n",
       " ' California',\n",
       " ' Colorado',\n",
       " ' New Hampshire',\n",
       " ' New Hampshire',\n",
       " ' California',\n",
       " ' California',\n",
       " ' California',\n",
       " ' District of Columbia',\n",
       " ' Virginia',\n",
       " ' Virginia',\n",
       " ' Minnesota',\n",
       " ' Minnesota',\n",
       " ' Wisconsin',\n",
       " ' California',\n",
       " ' California',\n",
       " ' Maine',\n",
       " ' Texas']"
      ]
     },
     "execution_count": 427,
     "metadata": {},
     "output_type": "execute_result"
    }
   ],
   "source": [
    "state"
   ]
  },
  {
   "cell_type": "code",
   "execution_count": null,
   "metadata": {},
   "outputs": [],
   "source": []
  },
  {
   "cell_type": "code",
   "execution_count": null,
   "metadata": {},
   "outputs": [],
   "source": []
  },
  {
   "cell_type": "code",
   "execution_count": 292,
   "metadata": {},
   "outputs": [],
   "source": [
    "#unemployment rate\n",
    "\n",
    "u_rate = []\n",
    "for c in city:\n",
    "    target = 'https://www.google.com/search?ei=BGZCXN_4EJSSjwSrvJegAg&q=unemployment+rate+{}'.format(c)\n",
    "    headers = {'User-Agent': 'Mozilla/5.0 (Macintosh; Intel Mac OS X 10_10_1) AppleWebKit/537.36 (KHTML, like Gecko) Chrome/39.0.2171.95 Safari/537.36'}\n",
    "    resp = requests.get(target, headers=headers)\n",
    "    soup = BeautifulSoup(resp.text, \"html.parser\")\n",
    "    \n",
    "    try:\n",
    "        u_rate.append(soup.find('div', {'class': 'kpd-ans' }).get_text().strip()[:3])\n",
    "    except:\n",
    "            if c == 'Marco Island':\n",
    "                target = \"https://www.google.com/search?ei=BGZCXN_4EJSSjwSrvJegAg&q=unemployment+rate+Marco Island\"\n",
    "                headers = {'User-Agent': 'Mozilla/5.0 (Macintosh; Intel Mac OS X 10_10_1) AppleWebKit/537.36 (KHTML, like Gecko) Chrome/39.0.2171.95 Safari/537.36'}\n",
    "                resp = requests.get(target, headers=headers)\n",
    "                soup = BeautifulSoup(resp.text, \"html.parser\")\n",
    "                u_rate.append(soup.find('span', {'class': 'ILfuVd'}).get_text()[75:78])\n",
    "            elif c == 'Naples':\n",
    "                target = \"https://www.google.com/search?ei=BGZCXN_4EJSSjwSrvJegAg&q=unemployment+rate+naples\"\n",
    "                headers = {'User-Agent': 'Mozilla/5.0 (Macintosh; Intel Mac OS X 10_10_1) AppleWebKit/537.36 (KHTML, like Gecko) Chrome/39.0.2171.95 Safari/537.36'}\n",
    "                resp = requests.get(target, headers=headers)\n",
    "                soup = BeautifulSoup(resp.text, \"html.parser\")\n",
    "                u_rate.append(soup.find('span', {'class': 'ILfuVd'}).get_text()[35:38])\n",
    "            elif c == 'Immokalee':\n",
    "                target = \"https://www.google.com/search?ei=BGZCXN_4EJSSjwSrvJegAg&q=unemployment+rate+immokalee\"\n",
    "                headers = {'User-Agent': 'Mozilla/5.0 (Macintosh; Intel Mac OS X 10_10_1) AppleWebKit/537.36 (KHTML, like Gecko) Chrome/39.0.2171.95 Safari/537.36'}\n",
    "                resp = requests.get(target, headers=headers)\n",
    "                soup = BeautifulSoup(resp.text, \"html.parser\")\n",
    "                u_rate.append(soup.find('span', {'class': 'ILfuVd'}).get_text()[38:41])\n",
    "#     print(c)\n",
    "    \n",
    "    "
   ]
  },
  {
   "cell_type": "code",
   "execution_count": 299,
   "metadata": {},
   "outputs": [],
   "source": [
    "top_25['Unemployment_Rate'] = u_rate"
   ]
  },
  {
   "cell_type": "code",
   "execution_count": 442,
   "metadata": {},
   "outputs": [
    {
     "data": {
      "text/html": [
       "<div>\n",
       "<style scoped>\n",
       "    .dataframe tbody tr th:only-of-type {\n",
       "        vertical-align: middle;\n",
       "    }\n",
       "\n",
       "    .dataframe tbody tr th {\n",
       "        vertical-align: top;\n",
       "    }\n",
       "\n",
       "    .dataframe thead th {\n",
       "        text-align: right;\n",
       "    }\n",
       "</style>\n",
       "<table border=\"1\" class=\"dataframe\">\n",
       "  <thead>\n",
       "    <tr style=\"text-align: right;\">\n",
       "      <th></th>\n",
       "      <th>rank_key</th>\n",
       "      <th>metro</th>\n",
       "      <th>Unemployment_Rate</th>\n",
       "      <th>Number_of_Jobs</th>\n",
       "    </tr>\n",
       "  </thead>\n",
       "  <tbody>\n",
       "    <tr>\n",
       "      <th>0</th>\n",
       "      <td>1</td>\n",
       "      <td>Boulder, Colorado</td>\n",
       "      <td>1.9</td>\n",
       "      <td>30242</td>\n",
       "    </tr>\n",
       "    <tr>\n",
       "      <th>1</th>\n",
       "      <td>2</td>\n",
       "      <td>Santa Cruz, California</td>\n",
       "      <td>2.6</td>\n",
       "      <td>8298</td>\n",
       "    </tr>\n",
       "    <tr>\n",
       "      <th>2</th>\n",
       "      <td>2</td>\n",
       "      <td>Watsonville, California</td>\n",
       "      <td>9.8</td>\n",
       "      <td>7672</td>\n",
       "    </tr>\n",
       "    <tr>\n",
       "      <th>3</th>\n",
       "      <td>3</td>\n",
       "      <td>Charlottesville, Virginia</td>\n",
       "      <td>2.4</td>\n",
       "      <td>3123</td>\n",
       "    </tr>\n",
       "    <tr>\n",
       "      <th>4</th>\n",
       "      <td>4</td>\n",
       "      <td>Fort Collins, Colorado</td>\n",
       "      <td>1.9</td>\n",
       "      <td>5792</td>\n",
       "    </tr>\n",
       "  </tbody>\n",
       "</table>\n",
       "</div>"
      ],
      "text/plain": [
       "   rank_key                      metro  Unemployment_Rate  Number_of_Jobs\n",
       "0         1          Boulder, Colorado                1.9           30242\n",
       "1         2     Santa Cruz, California                2.6            8298\n",
       "2         2    Watsonville, California                9.8            7672\n",
       "3         3  Charlottesville, Virginia                2.4            3123\n",
       "4         4     Fort Collins, Colorado                1.9            5792"
      ]
     },
     "execution_count": 442,
     "metadata": {},
     "output_type": "execute_result"
    }
   ],
   "source": [
    "top_25.head()"
   ]
  },
  {
   "cell_type": "code",
   "execution_count": 368,
   "metadata": {},
   "outputs": [],
   "source": [
    "#number of jobs\n",
    "jobs = []\n",
    "for c in city:\n",
    "    target = 'https://www.indeed.com/jobs?q=&l={}'.format(c)\n",
    "    headers = {'User-Agent': 'Mozilla/5.0 (Macintosh; Intel Mac OS X 10_10_1) AppleWebKit/537.36 (KHTML, like Gecko) Chrome/39.0.2171.95 Safari/537.36'}\n",
    "    resp = requests.get(target, headers=headers)\n",
    "    soup = BeautifulSoup(resp.text, \"html.parser\")\n",
    "    jobs.append(soup.find(\"div\", {\"id\": \"searchCount\"}).get_text().strip())\n",
    "    \n",
    "    \n",
    "# for x in top_25.jobs:\n",
    "#     num = x[10:16]\n",
    "#     print(num)    "
   ]
  },
  {
   "cell_type": "code",
   "execution_count": 369,
   "metadata": {},
   "outputs": [],
   "source": [
    "t_jobs = []\n",
    "for j in jobs:\n",
    "    j = int(j.split(' ')[3].replace(\",\", \"\"))\n",
    "    t_jobs.append(j)"
   ]
  },
  {
   "cell_type": "code",
   "execution_count": null,
   "metadata": {},
   "outputs": [],
   "source": []
  },
  {
   "cell_type": "code",
   "execution_count": null,
   "metadata": {},
   "outputs": [],
   "source": [
    "# 'https://www.google.com/search?ei=TWNDXJXtKOXbjwS0v4zwDA&q={}+population'.format(x)"
   ]
  },
  {
   "cell_type": "code",
   "execution_count": 455,
   "metadata": {},
   "outputs": [],
   "source": [
    "#population\n",
    "pop = []\n",
    "for x in top_25.metro: \n",
    "    target = 'https://www.google.com/search?ei=TWNDXJXtKOXbjwS0v4zwDA&q={}+population'.format(x)\n",
    "    headers = {'User-Agent': 'Mozilla/5.0 (Macintosh; Intel Mac OS X 10_10_1) AppleWebKit/537.36 (KHTML, like Gecko) Chrome/39.0.2171.95 Safari/537.36'}\n",
    "    resp = requests.get(target, headers=headers)\n",
    "    soup = BeautifulSoup(resp.text, \"html.parser\")\n",
    "    \n",
    "    if x == 'Immokalee, Florida':\n",
    "        p = soup.find(\"div\", {\"class\": \"Z0LcW\"}).get_text().replace(\",\", \"\")\n",
    "#         print(p)\n",
    "        pop.append(p)\n",
    "    else:\n",
    "        p = (soup.find(\"div\", {\"class\": \"kpd-ans\"})).get_text().split(' ')[0].replace(\",\", \"\")\n",
    "#         print(p)\n",
    "        pop.append(p)\n",
    "    "
   ]
  },
  {
   "cell_type": "code",
   "execution_count": 481,
   "metadata": {},
   "outputs": [
    {
     "data": {
      "text/html": [
       "<div>\n",
       "<style scoped>\n",
       "    .dataframe tbody tr th:only-of-type {\n",
       "        vertical-align: middle;\n",
       "    }\n",
       "\n",
       "    .dataframe tbody tr th {\n",
       "        vertical-align: top;\n",
       "    }\n",
       "\n",
       "    .dataframe thead th {\n",
       "        text-align: right;\n",
       "    }\n",
       "</style>\n",
       "<table border=\"1\" class=\"dataframe\">\n",
       "  <thead>\n",
       "    <tr style=\"text-align: right;\">\n",
       "      <th></th>\n",
       "      <th>rank_key</th>\n",
       "      <th>metro</th>\n",
       "      <th>Unemployment_Rate</th>\n",
       "      <th>Number_of_Jobs</th>\n",
       "      <th>Population</th>\n",
       "    </tr>\n",
       "  </thead>\n",
       "  <tbody>\n",
       "    <tr>\n",
       "      <th>0</th>\n",
       "      <td>1</td>\n",
       "      <td>Boulder, Colorado</td>\n",
       "      <td>1.9</td>\n",
       "      <td>30242</td>\n",
       "      <td>107125</td>\n",
       "    </tr>\n",
       "    <tr>\n",
       "      <th>1</th>\n",
       "      <td>2</td>\n",
       "      <td>Santa Cruz, California</td>\n",
       "      <td>2.6</td>\n",
       "      <td>8298</td>\n",
       "      <td>65021</td>\n",
       "    </tr>\n",
       "    <tr>\n",
       "      <th>2</th>\n",
       "      <td>2</td>\n",
       "      <td>Watsonville, California</td>\n",
       "      <td>9.8</td>\n",
       "      <td>7672</td>\n",
       "      <td>54098</td>\n",
       "    </tr>\n",
       "    <tr>\n",
       "      <th>3</th>\n",
       "      <td>3</td>\n",
       "      <td>Charlottesville, Virginia</td>\n",
       "      <td>2.4</td>\n",
       "      <td>3123</td>\n",
       "      <td>48019</td>\n",
       "    </tr>\n",
       "    <tr>\n",
       "      <th>4</th>\n",
       "      <td>4</td>\n",
       "      <td>Fort Collins, Colorado</td>\n",
       "      <td>1.9</td>\n",
       "      <td>5792</td>\n",
       "      <td>165080</td>\n",
       "    </tr>\n",
       "  </tbody>\n",
       "</table>\n",
       "</div>"
      ],
      "text/plain": [
       "   rank_key                      metro  Unemployment_Rate  Number_of_Jobs  \\\n",
       "0         1          Boulder, Colorado                1.9           30242   \n",
       "1         2     Santa Cruz, California                2.6            8298   \n",
       "2         2    Watsonville, California                9.8            7672   \n",
       "3         3  Charlottesville, Virginia                2.4            3123   \n",
       "4         4     Fort Collins, Colorado                1.9            5792   \n",
       "\n",
       "  Population  \n",
       "0     107125  \n",
       "1      65021  \n",
       "2      54098  \n",
       "3      48019  \n",
       "4     165080  "
      ]
     },
     "execution_count": 481,
     "metadata": {},
     "output_type": "execute_result"
    }
   ],
   "source": [
    "top_25['Population'] = pop\n",
    "top_25.head()"
   ]
  },
  {
   "cell_type": "code",
   "execution_count": 479,
   "metadata": {},
   "outputs": [
    {
     "data": {
      "text/plain": [
       "1034999.9999999999"
      ]
     },
     "execution_count": 479,
     "metadata": {},
     "output_type": "execute_result"
    }
   ],
   "source": [
    "(float(top_25.Population[6].split('\\xa0')[0]) * 1000000)"
   ]
  },
  {
   "cell_type": "code",
   "execution_count": 474,
   "metadata": {},
   "outputs": [
    {
     "data": {
      "text/plain": [
       "'1.035\\xa0million'"
      ]
     },
     "execution_count": 474,
     "metadata": {},
     "output_type": "execute_result"
    }
   ],
   "source": [
    "top_25.Population[6] = "
   ]
  },
  {
   "cell_type": "code",
   "execution_count": null,
   "metadata": {},
   "outputs": [],
   "source": []
  },
  {
   "cell_type": "code",
   "execution_count": null,
   "metadata": {},
   "outputs": [],
   "source": []
  },
  {
   "cell_type": "code",
   "execution_count": null,
   "metadata": {},
   "outputs": [],
   "source": []
  },
  {
   "cell_type": "code",
   "execution_count": 482,
   "metadata": {},
   "outputs": [],
   "source": [
    "top_25['Number_of_Jobs'] = t_jobs"
   ]
  },
  {
   "cell_type": "code",
   "execution_count": 483,
   "metadata": {},
   "outputs": [],
   "source": [
    "top_25.Unemployment_Rate = top_25.Unemployment_Rate.map(float)"
   ]
  },
  {
   "cell_type": "code",
   "execution_count": 484,
   "metadata": {},
   "outputs": [
    {
     "data": {
      "text/plain": [
       "<matplotlib.collections.PathCollection at 0x1262d0cc0>"
      ]
     },
     "execution_count": 484,
     "metadata": {},
     "output_type": "execute_result"
    },
    {
     "data": {
      "image/png": "[encoded data removed]",
      "text/plain": [
       "<Figure size 432x288 with 1 Axes>"
      ]
     },
     "metadata": {
      "needs_background": "light"
     },
     "output_type": "display_data"
    }
   ],
   "source": [
    "plt.scatter(top_25.rank_key, top_25.Number_of_Jobs,s = top_25.Unemployment_Rate * 200, alpha = .5, c = \"gold\",\n",
    "            edgecolor=\"black\", label='Suburban', linewidths=.5)"
   ]
  },
  {
   "cell_type": "code",
   "execution_count": 485,
   "metadata": {},
   "outputs": [
    {
     "data": {
      "text/plain": [
       "<matplotlib.collections.PathCollection at 0x121e0dbe0>"
      ]
     },
     "execution_count": 485,
     "metadata": {},
     "output_type": "execute_result"
    },
    {
     "data": {
      "image/png": "[encoded data removed]",
      "text/plain": [
       "<Figure size 432x288 with 1 Axes>"
      ]
     },
     "metadata": {
      "needs_background": "light"
     },
     "output_type": "display_data"
    }
   ],
   "source": [
    "plt.scatter(top_25.rank_key, top_25.Unemployment_Rate,s = top_25.Number_of_Jobs / 100, alpha = .5, c = \"gold\",\n",
    "            edgecolor=\"black\", label='Suburban', linewidths=.5)"
   ]
  },
  {
   "cell_type": "code",
   "execution_count": null,
   "metadata": {},
   "outputs": [],
   "source": [
    "plt.xlabel('Count of Rides')\n",
    "plt.ylabel('Average Fare in Dollars')\n",
    "plt.title('Pyber - Ride Data')\n",
    "plt.legend()\n",
    "plt.xlim(0, 42.5)\n",
    "plt.ylim(17.5, 45)\n",
    "plt.text(10, 10, 'Size of Bubble indicates Driver Count', style='italic',\n",
    "        bbox={'facecolor': 'lightskyblue', 'alpha': .5, 'pad': 10})\n",
    "plt.grid(True)"
   ]
  },
  {
   "cell_type": "code",
   "execution_count": null,
   "metadata": {},
   "outputs": [],
   "source": []
  },
  {
   "cell_type": "code",
   "execution_count": null,
   "metadata": {},
   "outputs": [],
   "source": []
  },
  {
   "cell_type": "code",
   "execution_count": null,
   "metadata": {},
   "outputs": [],
   "source": []
  },
  {
   "cell_type": "code",
   "execution_count": null,
   "metadata": {},
   "outputs": [],
   "source": []
  },
  {
   "cell_type": "code",
   "execution_count": null,
   "metadata": {},
   "outputs": [],
   "source": []
  }
 ],
 "metadata": {
  "kernelspec": {
   "display_name": "Python 3",
   "language": "python",
   "name": "python3"
  },
  "language_info": {
   "codemirror_mode": {
    "name": "ipython",
    "version": 3
   },
   "file_extension": ".py",
   "mimetype": "text/x-python",
   "name": "python",
   "nbconvert_exporter": "python",
   "pygments_lexer": "ipython3",
   "version": "3.7.1"
  }
 },
 "nbformat": 4,
 "nbformat_minor": 2
}
